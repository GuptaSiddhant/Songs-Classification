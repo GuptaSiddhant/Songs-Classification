{
 "cells": [
  {
   "cell_type": "code",
   "execution_count": 1,
   "metadata": {},
   "outputs": [],
   "source": [
    "import pandas as pd\n",
    "import numpy as np\n"
   ]
  },
  {
   "cell_type": "code",
   "execution_count": 2,
   "metadata": {},
   "outputs": [],
   "source": [
    "dfx = pd.read_csv(\"train_data.csv\", header = None)"
   ]
  },
  {
   "cell_type": "code",
   "execution_count": 4,
   "metadata": {},
   "outputs": [],
   "source": [
    "dfy = pd.read_csv(\"train_labels.csv\" , header= None)"
   ]
  },
  {
   "cell_type": "code",
   "execution_count": 14,
   "metadata": {},
   "outputs": [
    {
     "data": {
      "text/plain": [
       "(4363, 1)"
      ]
     },
     "execution_count": 14,
     "metadata": {},
     "output_type": "execute_result"
    }
   ],
   "source": []
  },
  {
   "cell_type": "code",
   "execution_count": 5,
   "metadata": {},
   "outputs": [
    {
     "data": {
      "text/html": [
       "<div>\n",
       "<style scoped>\n",
       "    .dataframe tbody tr th:only-of-type {\n",
       "        vertical-align: middle;\n",
       "    }\n",
       "\n",
       "    .dataframe tbody tr th {\n",
       "        vertical-align: top;\n",
       "    }\n",
       "\n",
       "    .dataframe thead th {\n",
       "        text-align: right;\n",
       "    }\n",
       "</style>\n",
       "<table border=\"1\" class=\"dataframe\">\n",
       "  <thead>\n",
       "    <tr style=\"text-align: right;\">\n",
       "      <th></th>\n",
       "      <th>0</th>\n",
       "      <th>1</th>\n",
       "      <th>2</th>\n",
       "      <th>3</th>\n",
       "      <th>4</th>\n",
       "      <th>5</th>\n",
       "      <th>6</th>\n",
       "      <th>7</th>\n",
       "      <th>8</th>\n",
       "      <th>9</th>\n",
       "      <th>...</th>\n",
       "      <th>254</th>\n",
       "      <th>255</th>\n",
       "      <th>256</th>\n",
       "      <th>257</th>\n",
       "      <th>258</th>\n",
       "      <th>259</th>\n",
       "      <th>260</th>\n",
       "      <th>261</th>\n",
       "      <th>262</th>\n",
       "      <th>263</th>\n",
       "    </tr>\n",
       "  </thead>\n",
       "  <tbody>\n",
       "    <tr>\n",
       "      <th>0</th>\n",
       "      <td>1040.7</td>\n",
       "      <td>2315.6</td>\n",
       "      <td>2839.1</td>\n",
       "      <td>2552.2</td>\n",
       "      <td>2290.4</td>\n",
       "      <td>1913.8</td>\n",
       "      <td>2152.6</td>\n",
       "      <td>1930.3</td>\n",
       "      <td>2079.3</td>\n",
       "      <td>1706.7</td>\n",
       "      <td>...</td>\n",
       "      <td>0.216490</td>\n",
       "      <td>0.36548</td>\n",
       "      <td>0.093584</td>\n",
       "      <td>0.166870</td>\n",
       "      <td>0.083426</td>\n",
       "      <td>0.118090</td>\n",
       "      <td>0.089792</td>\n",
       "      <td>0.074371</td>\n",
       "      <td>0.073162</td>\n",
       "      <td>0.059463</td>\n",
       "    </tr>\n",
       "    <tr>\n",
       "      <th>1</th>\n",
       "      <td>2309.4</td>\n",
       "      <td>4780.4</td>\n",
       "      <td>4055.7</td>\n",
       "      <td>3120.5</td>\n",
       "      <td>1979.9</td>\n",
       "      <td>2343.6</td>\n",
       "      <td>2634.2</td>\n",
       "      <td>3208.5</td>\n",
       "      <td>3078.0</td>\n",
       "      <td>3374.7</td>\n",
       "      <td>...</td>\n",
       "      <td>0.100670</td>\n",
       "      <td>0.14739</td>\n",
       "      <td>0.102560</td>\n",
       "      <td>0.213040</td>\n",
       "      <td>0.082041</td>\n",
       "      <td>0.080967</td>\n",
       "      <td>0.076450</td>\n",
       "      <td>0.052523</td>\n",
       "      <td>0.052357</td>\n",
       "      <td>0.055297</td>\n",
       "    </tr>\n",
       "    <tr>\n",
       "      <th>2</th>\n",
       "      <td>2331.9</td>\n",
       "      <td>4607.0</td>\n",
       "      <td>4732.3</td>\n",
       "      <td>5007.0</td>\n",
       "      <td>3164.9</td>\n",
       "      <td>3171.9</td>\n",
       "      <td>2915.7</td>\n",
       "      <td>3282.3</td>\n",
       "      <td>2400.0</td>\n",
       "      <td>1895.2</td>\n",
       "      <td>...</td>\n",
       "      <td>0.126760</td>\n",
       "      <td>0.36321</td>\n",
       "      <td>0.114200</td>\n",
       "      <td>0.223780</td>\n",
       "      <td>0.100770</td>\n",
       "      <td>0.186910</td>\n",
       "      <td>0.067270</td>\n",
       "      <td>0.061138</td>\n",
       "      <td>0.085509</td>\n",
       "      <td>0.049422</td>\n",
       "    </tr>\n",
       "    <tr>\n",
       "      <th>3</th>\n",
       "      <td>3350.9</td>\n",
       "      <td>6274.4</td>\n",
       "      <td>5037.0</td>\n",
       "      <td>4609.7</td>\n",
       "      <td>3438.8</td>\n",
       "      <td>3925.8</td>\n",
       "      <td>3746.4</td>\n",
       "      <td>3539.4</td>\n",
       "      <td>3053.7</td>\n",
       "      <td>3075.4</td>\n",
       "      <td>...</td>\n",
       "      <td>0.096479</td>\n",
       "      <td>0.28950</td>\n",
       "      <td>0.074124</td>\n",
       "      <td>0.201580</td>\n",
       "      <td>0.049032</td>\n",
       "      <td>0.130210</td>\n",
       "      <td>0.045800</td>\n",
       "      <td>0.080885</td>\n",
       "      <td>0.148910</td>\n",
       "      <td>0.042027</td>\n",
       "    </tr>\n",
       "    <tr>\n",
       "      <th>4</th>\n",
       "      <td>2017.6</td>\n",
       "      <td>3351.8</td>\n",
       "      <td>2924.9</td>\n",
       "      <td>2726.3</td>\n",
       "      <td>1979.9</td>\n",
       "      <td>1930.9</td>\n",
       "      <td>2083.4</td>\n",
       "      <td>1889.2</td>\n",
       "      <td>1695.4</td>\n",
       "      <td>1911.7</td>\n",
       "      <td>...</td>\n",
       "      <td>0.138340</td>\n",
       "      <td>0.38266</td>\n",
       "      <td>0.079402</td>\n",
       "      <td>0.063495</td>\n",
       "      <td>0.053717</td>\n",
       "      <td>0.086750</td>\n",
       "      <td>0.062090</td>\n",
       "      <td>0.048999</td>\n",
       "      <td>0.033159</td>\n",
       "      <td>0.070813</td>\n",
       "    </tr>\n",
       "  </tbody>\n",
       "</table>\n",
       "<p>5 rows × 264 columns</p>\n",
       "</div>"
      ],
      "text/plain": [
       "      0       1       2       3       4       5       6       7       8    \\\n",
       "0  1040.7  2315.6  2839.1  2552.2  2290.4  1913.8  2152.6  1930.3  2079.3   \n",
       "1  2309.4  4780.4  4055.7  3120.5  1979.9  2343.6  2634.2  3208.5  3078.0   \n",
       "2  2331.9  4607.0  4732.3  5007.0  3164.9  3171.9  2915.7  3282.3  2400.0   \n",
       "3  3350.9  6274.4  5037.0  4609.7  3438.8  3925.8  3746.4  3539.4  3053.7   \n",
       "4  2017.6  3351.8  2924.9  2726.3  1979.9  1930.9  2083.4  1889.2  1695.4   \n",
       "\n",
       "      9      ...          254      255       256       257       258  \\\n",
       "0  1706.7    ...     0.216490  0.36548  0.093584  0.166870  0.083426   \n",
       "1  3374.7    ...     0.100670  0.14739  0.102560  0.213040  0.082041   \n",
       "2  1895.2    ...     0.126760  0.36321  0.114200  0.223780  0.100770   \n",
       "3  3075.4    ...     0.096479  0.28950  0.074124  0.201580  0.049032   \n",
       "4  1911.7    ...     0.138340  0.38266  0.079402  0.063495  0.053717   \n",
       "\n",
       "        259       260       261       262       263  \n",
       "0  0.118090  0.089792  0.074371  0.073162  0.059463  \n",
       "1  0.080967  0.076450  0.052523  0.052357  0.055297  \n",
       "2  0.186910  0.067270  0.061138  0.085509  0.049422  \n",
       "3  0.130210  0.045800  0.080885  0.148910  0.042027  \n",
       "4  0.086750  0.062090  0.048999  0.033159  0.070813  \n",
       "\n",
       "[5 rows x 264 columns]"
      ]
     },
     "execution_count": 5,
     "metadata": {},
     "output_type": "execute_result"
    }
   ],
   "source": [
    "dfx.head()"
   ]
  },
  {
   "cell_type": "code",
   "execution_count": 6,
   "metadata": {},
   "outputs": [
    {
     "name": "stdout",
     "output_type": "stream",
     "text": [
      "(4363, 264)\n",
      "(4363, 1)\n"
     ]
    }
   ],
   "source": [
    "print(dfx.shape)\n",
    "print(dfy.shape)"
   ]
  },
  {
   "cell_type": "code",
   "execution_count": 7,
   "metadata": {},
   "outputs": [
    {
     "name": "stderr",
     "output_type": "stream",
     "text": [
      "/Users/rohitsaluja/anaconda3/lib/python3.6/site-packages/ipykernel_launcher.py:2: FutureWarning: Method .as_matrix will be removed in a future version. Use .values instead.\n",
      "  \n"
     ]
    }
   ],
   "source": [
    "L=[]\n",
    "for m in dfy.as_matrix().tolist():\n",
    "    L += m"
   ]
  },
  {
   "cell_type": "code",
   "execution_count": 15,
   "metadata": {},
   "outputs": [
    {
     "name": "stdout",
     "output_type": "stream",
     "text": [
      "(4363,)\n"
     ]
    }
   ],
   "source": []
  },
  {
   "cell_type": "code",
   "execution_count": 13,
   "metadata": {},
   "outputs": [
    {
     "ename": "NameError",
     "evalue": "name 'df' is not defined",
     "output_type": "error",
     "traceback": [
      "\u001b[0;31m---------------------------------------------------------------------------\u001b[0m",
      "\u001b[0;31mNameError\u001b[0m                                 Traceback (most recent call last)",
      "\u001b[0;32m<ipython-input-13-45893e33df67>\u001b[0m in \u001b[0;36m<module>\u001b[0;34m()\u001b[0m\n\u001b[0;32m----> 1\u001b[0;31m \u001b[0mcorr\u001b[0m \u001b[0;34m=\u001b[0m \u001b[0mdf\u001b[0m\u001b[0;34m.\u001b[0m\u001b[0mcorr\u001b[0m\u001b[0;34m(\u001b[0m\u001b[0;34m)\u001b[0m\u001b[0;34m\u001b[0m\u001b[0m\n\u001b[0m",
      "\u001b[0;31mNameError\u001b[0m: name 'df' is not defined"
     ]
    }
   ],
   "source": [
    "corr = df.corr()"
   ]
  },
  {
   "cell_type": "code",
   "execution_count": null,
   "metadata": {},
   "outputs": [],
   "source": [
    "from sklearn.metrics import confusion_matrix"
   ]
  },
  {
   "cell_type": "code",
   "execution_count": 8,
   "metadata": {},
   "outputs": [],
   "source": [
    "X_train = dfx \n",
    "y_train = L\n"
   ]
  },
  {
   "cell_type": "code",
   "execution_count": 9,
   "metadata": {},
   "outputs": [],
   "source": [
    "from sklearn.svm import SVC"
   ]
  },
  {
   "cell_type": "code",
   "execution_count": 17,
   "metadata": {},
   "outputs": [],
   "source": [
    "svm_model_linear = SVC(kernel = 'linear', C = 1).fit(X_train, y_train) "
   ]
  },
  {
   "cell_type": "code",
   "execution_count": 14,
   "metadata": {},
   "outputs": [],
   "source": [
    "dftest =  pd.read_csv(\"test_data.csv\", header = None)"
   ]
  },
  {
   "cell_type": "code",
   "execution_count": 20,
   "metadata": {},
   "outputs": [
    {
     "data": {
      "text/html": [
       "<div>\n",
       "<style scoped>\n",
       "    .dataframe tbody tr th:only-of-type {\n",
       "        vertical-align: middle;\n",
       "    }\n",
       "\n",
       "    .dataframe tbody tr th {\n",
       "        vertical-align: top;\n",
       "    }\n",
       "\n",
       "    .dataframe thead th {\n",
       "        text-align: right;\n",
       "    }\n",
       "</style>\n",
       "<table border=\"1\" class=\"dataframe\">\n",
       "  <thead>\n",
       "    <tr style=\"text-align: right;\">\n",
       "      <th></th>\n",
       "      <th>0</th>\n",
       "      <th>1</th>\n",
       "      <th>2</th>\n",
       "      <th>3</th>\n",
       "      <th>4</th>\n",
       "      <th>5</th>\n",
       "      <th>6</th>\n",
       "      <th>7</th>\n",
       "      <th>8</th>\n",
       "      <th>9</th>\n",
       "      <th>...</th>\n",
       "      <th>254</th>\n",
       "      <th>255</th>\n",
       "      <th>256</th>\n",
       "      <th>257</th>\n",
       "      <th>258</th>\n",
       "      <th>259</th>\n",
       "      <th>260</th>\n",
       "      <th>261</th>\n",
       "      <th>262</th>\n",
       "      <th>263</th>\n",
       "    </tr>\n",
       "  </thead>\n",
       "  <tbody>\n",
       "    <tr>\n",
       "      <th>0</th>\n",
       "      <td>3115.5</td>\n",
       "      <td>3151.9</td>\n",
       "      <td>2742.2</td>\n",
       "      <td>3236.8</td>\n",
       "      <td>2580.6</td>\n",
       "      <td>2662.6</td>\n",
       "      <td>2372.2</td>\n",
       "      <td>2569.6</td>\n",
       "      <td>2310.7</td>\n",
       "      <td>2502.1</td>\n",
       "      <td>...</td>\n",
       "      <td>0.202000</td>\n",
       "      <td>0.27811</td>\n",
       "      <td>0.138290</td>\n",
       "      <td>0.16759</td>\n",
       "      <td>0.106690</td>\n",
       "      <td>0.135000</td>\n",
       "      <td>0.087223</td>\n",
       "      <td>0.115030</td>\n",
       "      <td>0.074181</td>\n",
       "      <td>0.082354</td>\n",
       "    </tr>\n",
       "    <tr>\n",
       "      <th>1</th>\n",
       "      <td>2055.0</td>\n",
       "      <td>3225.7</td>\n",
       "      <td>2273.5</td>\n",
       "      <td>3601.9</td>\n",
       "      <td>1959.3</td>\n",
       "      <td>2212.3</td>\n",
       "      <td>1720.4</td>\n",
       "      <td>1640.4</td>\n",
       "      <td>1157.1</td>\n",
       "      <td>1132.5</td>\n",
       "      <td>...</td>\n",
       "      <td>0.095165</td>\n",
       "      <td>0.17908</td>\n",
       "      <td>0.134300</td>\n",
       "      <td>0.14612</td>\n",
       "      <td>0.062988</td>\n",
       "      <td>0.113780</td>\n",
       "      <td>0.076223</td>\n",
       "      <td>0.105320</td>\n",
       "      <td>0.104750</td>\n",
       "      <td>0.067400</td>\n",
       "    </tr>\n",
       "    <tr>\n",
       "      <th>2</th>\n",
       "      <td>1601.2</td>\n",
       "      <td>3768.1</td>\n",
       "      <td>3591.0</td>\n",
       "      <td>3452.4</td>\n",
       "      <td>2935.9</td>\n",
       "      <td>2913.4</td>\n",
       "      <td>2479.6</td>\n",
       "      <td>2108.8</td>\n",
       "      <td>1823.8</td>\n",
       "      <td>1711.3</td>\n",
       "      <td>...</td>\n",
       "      <td>0.114550</td>\n",
       "      <td>0.30952</td>\n",
       "      <td>0.096229</td>\n",
       "      <td>0.10636</td>\n",
       "      <td>0.037123</td>\n",
       "      <td>0.085613</td>\n",
       "      <td>0.051728</td>\n",
       "      <td>0.074393</td>\n",
       "      <td>0.047407</td>\n",
       "      <td>0.043231</td>\n",
       "    </tr>\n",
       "    <tr>\n",
       "      <th>3</th>\n",
       "      <td>2745.0</td>\n",
       "      <td>4585.8</td>\n",
       "      <td>4246.0</td>\n",
       "      <td>3937.6</td>\n",
       "      <td>3423.9</td>\n",
       "      <td>4108.2</td>\n",
       "      <td>3096.5</td>\n",
       "      <td>3469.6</td>\n",
       "      <td>3002.5</td>\n",
       "      <td>3525.0</td>\n",
       "      <td>...</td>\n",
       "      <td>0.112300</td>\n",
       "      <td>0.42906</td>\n",
       "      <td>0.057022</td>\n",
       "      <td>0.16610</td>\n",
       "      <td>0.057594</td>\n",
       "      <td>0.127360</td>\n",
       "      <td>0.017878</td>\n",
       "      <td>0.075741</td>\n",
       "      <td>0.092060</td>\n",
       "      <td>0.028369</td>\n",
       "    </tr>\n",
       "    <tr>\n",
       "      <th>4</th>\n",
       "      <td>1515.0</td>\n",
       "      <td>2403.5</td>\n",
       "      <td>2461.6</td>\n",
       "      <td>2399.1</td>\n",
       "      <td>1999.4</td>\n",
       "      <td>2195.8</td>\n",
       "      <td>2123.0</td>\n",
       "      <td>2030.7</td>\n",
       "      <td>1737.4</td>\n",
       "      <td>1875.5</td>\n",
       "      <td>...</td>\n",
       "      <td>0.098629</td>\n",
       "      <td>0.27692</td>\n",
       "      <td>0.057491</td>\n",
       "      <td>0.24435</td>\n",
       "      <td>0.039830</td>\n",
       "      <td>0.050223</td>\n",
       "      <td>0.045778</td>\n",
       "      <td>0.078015</td>\n",
       "      <td>0.067199</td>\n",
       "      <td>0.043448</td>\n",
       "    </tr>\n",
       "  </tbody>\n",
       "</table>\n",
       "<p>5 rows × 264 columns</p>\n",
       "</div>"
      ],
      "text/plain": [
       "      0       1       2       3       4       5       6       7       8    \\\n",
       "0  3115.5  3151.9  2742.2  3236.8  2580.6  2662.6  2372.2  2569.6  2310.7   \n",
       "1  2055.0  3225.7  2273.5  3601.9  1959.3  2212.3  1720.4  1640.4  1157.1   \n",
       "2  1601.2  3768.1  3591.0  3452.4  2935.9  2913.4  2479.6  2108.8  1823.8   \n",
       "3  2745.0  4585.8  4246.0  3937.6  3423.9  4108.2  3096.5  3469.6  3002.5   \n",
       "4  1515.0  2403.5  2461.6  2399.1  1999.4  2195.8  2123.0  2030.7  1737.4   \n",
       "\n",
       "      9      ...          254      255       256      257       258       259  \\\n",
       "0  2502.1    ...     0.202000  0.27811  0.138290  0.16759  0.106690  0.135000   \n",
       "1  1132.5    ...     0.095165  0.17908  0.134300  0.14612  0.062988  0.113780   \n",
       "2  1711.3    ...     0.114550  0.30952  0.096229  0.10636  0.037123  0.085613   \n",
       "3  3525.0    ...     0.112300  0.42906  0.057022  0.16610  0.057594  0.127360   \n",
       "4  1875.5    ...     0.098629  0.27692  0.057491  0.24435  0.039830  0.050223   \n",
       "\n",
       "        260       261       262       263  \n",
       "0  0.087223  0.115030  0.074181  0.082354  \n",
       "1  0.076223  0.105320  0.104750  0.067400  \n",
       "2  0.051728  0.074393  0.047407  0.043231  \n",
       "3  0.017878  0.075741  0.092060  0.028369  \n",
       "4  0.045778  0.078015  0.067199  0.043448  \n",
       "\n",
       "[5 rows x 264 columns]"
      ]
     },
     "execution_count": 20,
     "metadata": {},
     "output_type": "execute_result"
    }
   ],
   "source": [
    "dftest.head()"
   ]
  },
  {
   "cell_type": "code",
   "execution_count": 21,
   "metadata": {},
   "outputs": [],
   "source": [
    "svm_predictions = svm_model_linear.predict(dftest)"
   ]
  },
  {
   "cell_type": "code",
   "execution_count": 34,
   "metadata": {},
   "outputs": [
    {
     "name": "stdout",
     "output_type": "stream",
     "text": [
      "(6544,)\n"
     ]
    }
   ],
   "source": [
    "print(svm_predictions.shape)"
   ]
  },
  {
   "cell_type": "code",
   "execution_count": null,
   "metadata": {},
   "outputs": [],
   "source": []
  },
  {
   "cell_type": "code",
   "execution_count": null,
   "metadata": {},
   "outputs": [],
   "source": []
  },
  {
   "cell_type": "code",
   "execution_count": 26,
   "metadata": {},
   "outputs": [],
   "source": [
    "\n"
   ]
  },
  {
   "cell_type": "code",
   "execution_count": 10,
   "metadata": {},
   "outputs": [
    {
     "ename": "NameError",
     "evalue": "name 'svm_predictions' is not defined",
     "output_type": "error",
     "traceback": [
      "\u001b[0;31m---------------------------------------------------------------------------\u001b[0m",
      "\u001b[0;31mNameError\u001b[0m                                 Traceback (most recent call last)",
      "\u001b[0;32m<ipython-input-10-7b504cb782ce>\u001b[0m in \u001b[0;36m<module>\u001b[0;34m()\u001b[0m\n\u001b[0;32m----> 1\u001b[0;31m \u001b[0mnp\u001b[0m\u001b[0;34m.\u001b[0m\u001b[0msavetxt\u001b[0m\u001b[0;34m(\u001b[0m\u001b[0;34m\"svm_predictions.csv\"\u001b[0m\u001b[0;34m,\u001b[0m \u001b[0msvm_predictions\u001b[0m\u001b[0;34m,\u001b[0m \u001b[0mdelimiter\u001b[0m\u001b[0;34m=\u001b[0m\u001b[0;34m\",\"\u001b[0m\u001b[0;34m)\u001b[0m\u001b[0;34m\u001b[0m\u001b[0m\n\u001b[0m",
      "\u001b[0;31mNameError\u001b[0m: name 'svm_predictions' is not defined"
     ]
    }
   ],
   "source": [
    "np.savetxt(\"svm_predictions.csv\", svm_predictions, delimiter=\",\")\n"
   ]
  },
  {
   "cell_type": "code",
   "execution_count": 12,
   "metadata": {},
   "outputs": [],
   "source": [
    "svm_model_rbf = SVC(kernel = 'rbf', C = 1).fit(X_train, y_train) "
   ]
  },
  {
   "cell_type": "code",
   "execution_count": 15,
   "metadata": {},
   "outputs": [],
   "source": [
    "svm_predictionsrbf = svm_model_rbf.predict(dftest)"
   ]
  },
  {
   "cell_type": "code",
   "execution_count": 16,
   "metadata": {},
   "outputs": [
    {
     "name": "stdout",
     "output_type": "stream",
     "text": [
      "(6544,)\n"
     ]
    }
   ],
   "source": [
    "print(svm_predictionsrbf.shape)"
   ]
  },
  {
   "cell_type": "code",
   "execution_count": 17,
   "metadata": {},
   "outputs": [
    {
     "name": "stdout",
     "output_type": "stream",
     "text": [
      "[1 1 1 ... 1 1 1]\n"
     ]
    }
   ],
   "source": []
  },
  {
   "cell_type": "code",
   "execution_count": 40,
   "metadata": {},
   "outputs": [],
   "source": [
    "np.savetxt(\"svm_predictionsrbf.csv\", svm_predictions, delimiter=\",\")"
   ]
  },
  {
   "cell_type": "code",
   "execution_count": null,
   "metadata": {},
   "outputs": [],
   "source": [
    "svm_model_poly = SVC(kernel = 'poly', C = 1).fit(X_train, y_train) "
   ]
  },
  {
   "cell_type": "code",
   "execution_count": null,
   "metadata": {},
   "outputs": [],
   "source": []
  },
  {
   "cell_type": "code",
   "execution_count": null,
   "metadata": {},
   "outputs": [],
   "source": [
    "#KNN Algorithm"
   ]
  },
  {
   "cell_type": "code",
   "execution_count": 18,
   "metadata": {},
   "outputs": [],
   "source": [
    "from sklearn.neighbors import KNeighborsClassifier "
   ]
  },
  {
   "cell_type": "code",
   "execution_count": 19,
   "metadata": {},
   "outputs": [],
   "source": [
    "knn = KNeighborsClassifier(n_neighbors = 7).fit(X_train, y_train) \n"
   ]
  },
  {
   "cell_type": "code",
   "execution_count": 22,
   "metadata": {},
   "outputs": [],
   "source": [
    "knn_predictions = knn.predict(dftest)"
   ]
  },
  {
   "cell_type": "code",
   "execution_count": 23,
   "metadata": {},
   "outputs": [
    {
     "name": "stdout",
     "output_type": "stream",
     "text": [
      "[3 1 1 ... 1 3 1]\n"
     ]
    }
   ],
   "source": [
    "print(knn_predictions)"
   ]
  },
  {
   "cell_type": "code",
   "execution_count": 24,
   "metadata": {},
   "outputs": [],
   "source": [
    "np.savetxt(\"knn_predictions.csv\", knn_predictions, delimiter=\",\")"
   ]
  }
 ],
 "metadata": {
  "kernelspec": {
   "display_name": "Python 3",
   "language": "python",
   "name": "python3"
  },
  "language_info": {
   "codemirror_mode": {
    "name": "ipython",
    "version": 3
   },
   "file_extension": ".py",
   "mimetype": "text/x-python",
   "name": "python",
   "nbconvert_exporter": "python",
   "pygments_lexer": "ipython3",
   "version": "3.6.6"
  }
 },
 "nbformat": 4,
 "nbformat_minor": 2
}
