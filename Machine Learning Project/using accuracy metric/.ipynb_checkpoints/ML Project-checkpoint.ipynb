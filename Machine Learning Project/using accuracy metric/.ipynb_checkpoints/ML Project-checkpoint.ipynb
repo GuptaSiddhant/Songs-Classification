{
 "cells": [
  {
   "cell_type": "code",
   "execution_count": 1,
   "metadata": {},
   "outputs": [],
   "source": [
    "import pandas as pd\n",
    "import numpy as np\n"
   ]
  },
  {
   "cell_type": "code",
   "execution_count": 2,
   "metadata": {},
   "outputs": [],
   "source": [
    "dfx = pd.read_csv(\"train_data.csv\", header = None)"
   ]
  },
  {
   "cell_type": "code",
   "execution_count": 3,
   "metadata": {},
   "outputs": [],
   "source": [
    "dfy = pd.read_csv(\"train_labels.csv\" , header= None)"
   ]
  },
  {
   "cell_type": "code",
   "execution_count": null,
   "metadata": {},
   "outputs": [],
   "source": []
  },
  {
   "cell_type": "code",
   "execution_count": null,
   "metadata": {},
   "outputs": [],
   "source": [
    "dfx.head()"
   ]
  },
  {
   "cell_type": "code",
   "execution_count": null,
   "metadata": {},
   "outputs": [],
   "source": [
    "print(dfx.shape)\n",
    "print(dfy.shape)"
   ]
  },
  {
   "cell_type": "code",
   "execution_count": 4,
   "metadata": {},
   "outputs": [
    {
     "name": "stderr",
     "output_type": "stream",
     "text": [
      "/Users/gs/anaconda3/lib/python3.6/site-packages/ipykernel_launcher.py:2: FutureWarning: Method .as_matrix will be removed in a future version. Use .values instead.\n",
      "  \n"
     ]
    }
   ],
   "source": [
    "L=[]\n",
    "for m in dfy.as_matrix().tolist():\n",
    "    L += m"
   ]
  },
  {
   "cell_type": "code",
   "execution_count": null,
   "metadata": {},
   "outputs": [],
   "source": []
  },
  {
   "cell_type": "code",
   "execution_count": null,
   "metadata": {},
   "outputs": [],
   "source": [
    "corr = df.corr()"
   ]
  },
  {
   "cell_type": "code",
   "execution_count": null,
   "metadata": {},
   "outputs": [],
   "source": [
    "from sklearn.metrics import confusion_matrix"
   ]
  },
  {
   "cell_type": "code",
   "execution_count": 5,
   "metadata": {},
   "outputs": [],
   "source": [
    "X_train = dfx \n",
    "y_train = L\n"
   ]
  },
  {
   "cell_type": "code",
   "execution_count": 6,
   "metadata": {},
   "outputs": [],
   "source": [
    "from sklearn.svm import SVC"
   ]
  },
  {
   "cell_type": "code",
   "execution_count": 7,
   "metadata": {},
   "outputs": [],
   "source": [
    "svm_model_linear_prob = SVC(kernel = 'linear', C = 1, probability = True).fit(X_train, y_train) "
   ]
  },
  {
   "cell_type": "code",
   "execution_count": 10,
   "metadata": {},
   "outputs": [],
   "source": [
    "dftest =  pd.read_csv(\"test_data.csv\", header = None)"
   ]
  },
  {
   "cell_type": "code",
   "execution_count": 11,
   "metadata": {},
   "outputs": [
    {
     "data": {
      "text/html": [
       "<div>\n",
       "<style scoped>\n",
       "    .dataframe tbody tr th:only-of-type {\n",
       "        vertical-align: middle;\n",
       "    }\n",
       "\n",
       "    .dataframe tbody tr th {\n",
       "        vertical-align: top;\n",
       "    }\n",
       "\n",
       "    .dataframe thead th {\n",
       "        text-align: right;\n",
       "    }\n",
       "</style>\n",
       "<table border=\"1\" class=\"dataframe\">\n",
       "  <thead>\n",
       "    <tr style=\"text-align: right;\">\n",
       "      <th></th>\n",
       "      <th>0</th>\n",
       "      <th>1</th>\n",
       "      <th>2</th>\n",
       "      <th>3</th>\n",
       "      <th>4</th>\n",
       "      <th>5</th>\n",
       "      <th>6</th>\n",
       "      <th>7</th>\n",
       "      <th>8</th>\n",
       "      <th>9</th>\n",
       "      <th>...</th>\n",
       "      <th>254</th>\n",
       "      <th>255</th>\n",
       "      <th>256</th>\n",
       "      <th>257</th>\n",
       "      <th>258</th>\n",
       "      <th>259</th>\n",
       "      <th>260</th>\n",
       "      <th>261</th>\n",
       "      <th>262</th>\n",
       "      <th>263</th>\n",
       "    </tr>\n",
       "  </thead>\n",
       "  <tbody>\n",
       "    <tr>\n",
       "      <th>0</th>\n",
       "      <td>3115.5</td>\n",
       "      <td>3151.9</td>\n",
       "      <td>2742.2</td>\n",
       "      <td>3236.8</td>\n",
       "      <td>2580.6</td>\n",
       "      <td>2662.6</td>\n",
       "      <td>2372.2</td>\n",
       "      <td>2569.6</td>\n",
       "      <td>2310.7</td>\n",
       "      <td>2502.1</td>\n",
       "      <td>...</td>\n",
       "      <td>0.202000</td>\n",
       "      <td>0.27811</td>\n",
       "      <td>0.138290</td>\n",
       "      <td>0.16759</td>\n",
       "      <td>0.106690</td>\n",
       "      <td>0.135000</td>\n",
       "      <td>0.087223</td>\n",
       "      <td>0.115030</td>\n",
       "      <td>0.074181</td>\n",
       "      <td>0.082354</td>\n",
       "    </tr>\n",
       "    <tr>\n",
       "      <th>1</th>\n",
       "      <td>2055.0</td>\n",
       "      <td>3225.7</td>\n",
       "      <td>2273.5</td>\n",
       "      <td>3601.9</td>\n",
       "      <td>1959.3</td>\n",
       "      <td>2212.3</td>\n",
       "      <td>1720.4</td>\n",
       "      <td>1640.4</td>\n",
       "      <td>1157.1</td>\n",
       "      <td>1132.5</td>\n",
       "      <td>...</td>\n",
       "      <td>0.095165</td>\n",
       "      <td>0.17908</td>\n",
       "      <td>0.134300</td>\n",
       "      <td>0.14612</td>\n",
       "      <td>0.062988</td>\n",
       "      <td>0.113780</td>\n",
       "      <td>0.076223</td>\n",
       "      <td>0.105320</td>\n",
       "      <td>0.104750</td>\n",
       "      <td>0.067400</td>\n",
       "    </tr>\n",
       "    <tr>\n",
       "      <th>2</th>\n",
       "      <td>1601.2</td>\n",
       "      <td>3768.1</td>\n",
       "      <td>3591.0</td>\n",
       "      <td>3452.4</td>\n",
       "      <td>2935.9</td>\n",
       "      <td>2913.4</td>\n",
       "      <td>2479.6</td>\n",
       "      <td>2108.8</td>\n",
       "      <td>1823.8</td>\n",
       "      <td>1711.3</td>\n",
       "      <td>...</td>\n",
       "      <td>0.114550</td>\n",
       "      <td>0.30952</td>\n",
       "      <td>0.096229</td>\n",
       "      <td>0.10636</td>\n",
       "      <td>0.037123</td>\n",
       "      <td>0.085613</td>\n",
       "      <td>0.051728</td>\n",
       "      <td>0.074393</td>\n",
       "      <td>0.047407</td>\n",
       "      <td>0.043231</td>\n",
       "    </tr>\n",
       "    <tr>\n",
       "      <th>3</th>\n",
       "      <td>2745.0</td>\n",
       "      <td>4585.8</td>\n",
       "      <td>4246.0</td>\n",
       "      <td>3937.6</td>\n",
       "      <td>3423.9</td>\n",
       "      <td>4108.2</td>\n",
       "      <td>3096.5</td>\n",
       "      <td>3469.6</td>\n",
       "      <td>3002.5</td>\n",
       "      <td>3525.0</td>\n",
       "      <td>...</td>\n",
       "      <td>0.112300</td>\n",
       "      <td>0.42906</td>\n",
       "      <td>0.057022</td>\n",
       "      <td>0.16610</td>\n",
       "      <td>0.057594</td>\n",
       "      <td>0.127360</td>\n",
       "      <td>0.017878</td>\n",
       "      <td>0.075741</td>\n",
       "      <td>0.092060</td>\n",
       "      <td>0.028369</td>\n",
       "    </tr>\n",
       "    <tr>\n",
       "      <th>4</th>\n",
       "      <td>1515.0</td>\n",
       "      <td>2403.5</td>\n",
       "      <td>2461.6</td>\n",
       "      <td>2399.1</td>\n",
       "      <td>1999.4</td>\n",
       "      <td>2195.8</td>\n",
       "      <td>2123.0</td>\n",
       "      <td>2030.7</td>\n",
       "      <td>1737.4</td>\n",
       "      <td>1875.5</td>\n",
       "      <td>...</td>\n",
       "      <td>0.098629</td>\n",
       "      <td>0.27692</td>\n",
       "      <td>0.057491</td>\n",
       "      <td>0.24435</td>\n",
       "      <td>0.039830</td>\n",
       "      <td>0.050223</td>\n",
       "      <td>0.045778</td>\n",
       "      <td>0.078015</td>\n",
       "      <td>0.067199</td>\n",
       "      <td>0.043448</td>\n",
       "    </tr>\n",
       "  </tbody>\n",
       "</table>\n",
       "<p>5 rows × 264 columns</p>\n",
       "</div>"
      ],
      "text/plain": [
       "      0       1       2       3       4       5       6       7       8    \\\n",
       "0  3115.5  3151.9  2742.2  3236.8  2580.6  2662.6  2372.2  2569.6  2310.7   \n",
       "1  2055.0  3225.7  2273.5  3601.9  1959.3  2212.3  1720.4  1640.4  1157.1   \n",
       "2  1601.2  3768.1  3591.0  3452.4  2935.9  2913.4  2479.6  2108.8  1823.8   \n",
       "3  2745.0  4585.8  4246.0  3937.6  3423.9  4108.2  3096.5  3469.6  3002.5   \n",
       "4  1515.0  2403.5  2461.6  2399.1  1999.4  2195.8  2123.0  2030.7  1737.4   \n",
       "\n",
       "      9      ...          254      255       256      257       258       259  \\\n",
       "0  2502.1    ...     0.202000  0.27811  0.138290  0.16759  0.106690  0.135000   \n",
       "1  1132.5    ...     0.095165  0.17908  0.134300  0.14612  0.062988  0.113780   \n",
       "2  1711.3    ...     0.114550  0.30952  0.096229  0.10636  0.037123  0.085613   \n",
       "3  3525.0    ...     0.112300  0.42906  0.057022  0.16610  0.057594  0.127360   \n",
       "4  1875.5    ...     0.098629  0.27692  0.057491  0.24435  0.039830  0.050223   \n",
       "\n",
       "        260       261       262       263  \n",
       "0  0.087223  0.115030  0.074181  0.082354  \n",
       "1  0.076223  0.105320  0.104750  0.067400  \n",
       "2  0.051728  0.074393  0.047407  0.043231  \n",
       "3  0.017878  0.075741  0.092060  0.028369  \n",
       "4  0.045778  0.078015  0.067199  0.043448  \n",
       "\n",
       "[5 rows x 264 columns]"
      ]
     },
     "execution_count": 11,
     "metadata": {},
     "output_type": "execute_result"
    }
   ],
   "source": [
    "dftest.head()"
   ]
  },
  {
   "cell_type": "code",
   "execution_count": 12,
   "metadata": {},
   "outputs": [],
   "source": [
    "svm_prob_predictions = svm_model_linear_prob.predict_proba(dftest)"
   ]
  },
  {
   "cell_type": "code",
   "execution_count": 13,
   "metadata": {},
   "outputs": [
    {
     "name": "stdout",
     "output_type": "stream",
     "text": [
      "(6544, 10)\n"
     ]
    }
   ],
   "source": [
    "print(svm_prob_predictions.shape)"
   ]
  },
  {
   "cell_type": "code",
   "execution_count": 8,
   "metadata": {},
   "outputs": [
    {
     "name": "stdout",
     "output_type": "stream",
     "text": [
      "SVC(C=1, cache_size=200, class_weight=None, coef0=0.0,\n",
      "  decision_function_shape='ovr', degree=3, gamma='auto', kernel='linear',\n",
      "  max_iter=-1, probability=True, random_state=None, shrinking=True,\n",
      "  tol=0.001, verbose=False)\n"
     ]
    }
   ],
   "source": [
    "print(svm_model_linear_prob)"
   ]
  },
  {
   "cell_type": "code",
   "execution_count": null,
   "metadata": {},
   "outputs": [],
   "source": []
  },
  {
   "cell_type": "code",
   "execution_count": null,
   "metadata": {},
   "outputs": [],
   "source": [
    "\n"
   ]
  },
  {
   "cell_type": "code",
   "execution_count": 14,
   "metadata": {},
   "outputs": [],
   "source": [
    "np.savetxt(\"svm_prob_predictions.csv\", svm_prob_predictions, delimiter=\",\")\n"
   ]
  },
  {
   "cell_type": "code",
   "execution_count": null,
   "metadata": {},
   "outputs": [],
   "source": [
    "svm_model_rbf = SVC(kernel = 'rbf', C = 1).fit(X_train, y_train) "
   ]
  },
  {
   "cell_type": "code",
   "execution_count": null,
   "metadata": {},
   "outputs": [],
   "source": [
    "svm_predictionsrbf = svm_model_rbf.predict(dftest)"
   ]
  },
  {
   "cell_type": "code",
   "execution_count": null,
   "metadata": {},
   "outputs": [],
   "source": [
    "print(svm_predictionsrbf.shape)"
   ]
  },
  {
   "cell_type": "code",
   "execution_count": null,
   "metadata": {},
   "outputs": [],
   "source": []
  },
  {
   "cell_type": "code",
   "execution_count": null,
   "metadata": {},
   "outputs": [],
   "source": [
    "np.savetxt(\"svm_predictionsrbf.csv\", svm_predictions, delimiter=\",\")"
   ]
  },
  {
   "cell_type": "code",
   "execution_count": null,
   "metadata": {},
   "outputs": [],
   "source": [
    "svm_model_poly = SVC(kernel = 'poly', C = 1).fit(X_train, y_train) "
   ]
  },
  {
   "cell_type": "code",
   "execution_count": null,
   "metadata": {},
   "outputs": [],
   "source": []
  },
  {
   "cell_type": "code",
   "execution_count": null,
   "metadata": {},
   "outputs": [],
   "source": [
    "#KNN Algorithm"
   ]
  },
  {
   "cell_type": "code",
   "execution_count": null,
   "metadata": {},
   "outputs": [],
   "source": [
    "from sklearn.neighbors import KNeighborsClassifier "
   ]
  },
  {
   "cell_type": "code",
   "execution_count": null,
   "metadata": {},
   "outputs": [],
   "source": [
    "knn = KNeighborsClassifier(n_neighbors = 7).fit(X_train, y_train) \n"
   ]
  },
  {
   "cell_type": "code",
   "execution_count": null,
   "metadata": {},
   "outputs": [],
   "source": [
    "knn_predictions = knn.predict(dftest)"
   ]
  },
  {
   "cell_type": "code",
   "execution_count": null,
   "metadata": {},
   "outputs": [],
   "source": [
    "print(knn_predictions)"
   ]
  },
  {
   "cell_type": "code",
   "execution_count": null,
   "metadata": {},
   "outputs": [],
   "source": [
    "np.savetxt(\"knn_predictions.csv\", knn_predictions, delimiter=\",\")"
   ]
  }
 ],
 "metadata": {
  "kernelspec": {
   "display_name": "Python 3",
   "language": "python",
   "name": "python3"
  },
  "language_info": {
   "codemirror_mode": {
    "name": "ipython",
    "version": 3
   },
   "file_extension": ".py",
   "mimetype": "text/x-python",
   "name": "python",
   "nbconvert_exporter": "python",
   "pygments_lexer": "ipython3",
   "version": "3.6.5"
  }
 },
 "nbformat": 4,
 "nbformat_minor": 2
}
