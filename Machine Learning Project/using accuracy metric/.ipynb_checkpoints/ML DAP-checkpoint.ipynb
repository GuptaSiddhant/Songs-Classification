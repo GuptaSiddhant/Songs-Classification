{
 "cells": [
  {
   "cell_type": "code",
   "execution_count": 1,
   "metadata": {},
   "outputs": [
    {
     "name": "stderr",
     "output_type": "stream",
     "text": [
      "/Users/gs/anaconda3/lib/python3.6/site-packages/ipykernel_launcher.py:10: FutureWarning: Method .as_matrix will be removed in a future version. Use .values instead.\n",
      "  # Remove the CWD from sys.path while we load stuff.\n"
     ]
    }
   ],
   "source": [
    "import pandas as pd\n",
    "import numpy as np\n",
    "from sklearn.svm import SVC\n",
    "\n",
    "dfx = pd.read_csv(\"train_data.csv\", header = None)\n",
    "dfy = pd.read_csv(\"train_labels.csv\" , header= None)\n",
    "dftest =  pd.read_csv(\"test_data.csv\", header = None)\n",
    "\n",
    "L=[]\n",
    "for m in dfy.as_matrix().tolist():\n",
    "    L += m\n",
    "    \n",
    "X_train = dfx \n",
    "y_train = L\n"
   ]
  },
  {
   "cell_type": "code",
   "execution_count": null,
   "metadata": {},
   "outputs": [],
   "source": [
    "# Non Reduced Training\n",
    "\n",
    "svm_model_linear = SVC(kernel = 'linear', C = 1).fit(X_train, y_train)  \n",
    "svm_model_linear_prob = SVC(kernel = 'linear', C = 1, probability = True).fit(X_train, y_train)\n",
    "\n",
    "svm_predictions = svm_model_linear.predict(dftest)\n",
    "svm_prob_predictions = svm_model_linear_prob.predict_proba(dftest)\n",
    "\n",
    "np.savetxt(\"svm_prob_predictions.csv\", svm_prob_predictions, delimiter=\",\")\n",
    "np.savetxt(\"svm_predictions.csv\", svm_predictions, delimiter=\",\")"
   ]
  },
  {
   "cell_type": "code",
   "execution_count": null,
   "metadata": {},
   "outputs": [],
   "source": [
    "# Reduced Training\n",
    "\n",
    "from sklearn.feature_selection import SelectFromModel\n",
    "from sklearn.tree import DecisionTreeClassifier\n",
    "\n",
    "clf = DecisionTreeClassifier()\n",
    "trans = SelectFromModel(clf, threshold='median')\n",
    "kepler_X_trans = trans.fit_transform(X_train, y_train)\n",
    "df2 = pd.DataFrame(kepler_X_trans)\n",
    "\n",
    "svm_model_linear_rfs = SVC(kernel = 'rbf', C = 1).fit(df2,y_train)\n"
   ]
  },
  {
   "cell_type": "code",
   "execution_count": null,
   "metadata": {},
   "outputs": [],
   "source": [
    "# Converting Test_Data to 132 columns\n",
    "\n",
    "z = np.zeros((6544,132))\n",
    "dft = dftest.as_matrix()\n",
    "x=0\n",
    "for i in range(264):\n",
    "    for j in range(132):\n",
    "        if dfx[i].equals(df2[j]):\n",
    "            z[:,x] = dft[:,j]\n",
    "            x = x + 1\n",
    "test_df = pd.DataFrame(z)"
   ]
  },
  {
   "cell_type": "code",
   "execution_count": null,
   "metadata": {},
   "outputs": [],
   "source": [
    "# Predictions on Reduced Set\n",
    "\n",
    "svm_predictions_test_df = svm_model_linear_rfs.predict(test_df)\n",
    "np.savetxt(\"svm_predictions_test_df.csv\", svm_predictions_test_df , delimiter=\",\")"
   ]
  }
 ],
 "metadata": {
  "kernelspec": {
   "display_name": "Python 3",
   "language": "python",
   "name": "python3"
  },
  "language_info": {
   "codemirror_mode": {
    "name": "ipython",
    "version": 3
   },
   "file_extension": ".py",
   "mimetype": "text/x-python",
   "name": "python",
   "nbconvert_exporter": "python",
   "pygments_lexer": "ipython3",
   "version": "3.6.5"
  }
 },
 "nbformat": 4,
 "nbformat_minor": 2
}
