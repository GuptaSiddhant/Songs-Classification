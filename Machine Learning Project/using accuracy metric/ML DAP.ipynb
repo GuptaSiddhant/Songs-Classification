{
 "cells": [
  {
   "cell_type": "code",
   "execution_count": null,
   "metadata": {},
   "outputs": [
    {
     "name": "stderr",
     "output_type": "stream",
     "text": [
      "/Users/gs/anaconda3/lib/python3.6/site-packages/ipykernel_launcher.py:10: FutureWarning: Method .as_matrix will be removed in a future version. Use .values instead.\n",
      "  # Remove the CWD from sys.path while we load stuff.\n"
     ]
    }
   ],
   "source": [
    "import pandas as pd\n",
    "import numpy as np\n",
    "from sklearn.svm import SVC\n",
    "\n",
    "dfx = pd.read_csv(\"train_data.csv\", header = None)\n",
    "dfy = pd.read_csv(\"train_labels.csv\" , header= None)\n",
    "dftest =  pd.read_csv(\"test_data.csv\", header = None)\n",
    "\n",
    "L=[]\n",
    "for m in dfy.as_matrix().tolist():\n",
    "    L += m\n",
    "    \n",
    "X_train = dfx \n",
    "y_train = L\n",
    "    \n",
    "svm_model_linear = SVC(kernel = 'linear', C = 1).fit(X_train, y_train)  \n",
    "svm_model_linear_prob = SVC(kernel = 'linear', C = 1, probability = True).fit(X_train, y_train)\n",
    "\n",
    "svm_predictions = svm_model_linear.predict(dftest)\n",
    "svm_prob_predictions = svm_model_linear_prob.predict_proba(dftest)\n",
    "\n",
    "np.savetxt(\"svm_prob_predictions.csv\", svm_prob_predictions, delimiter=\",\")\n",
    "np.savetxt(\"svm_predictions.csv\", svm_prob_predictions, delimiter=\",\")"
   ]
  },
  {
   "cell_type": "code",
   "execution_count": null,
   "metadata": {},
   "outputs": [],
   "source": []
  }
 ],
 "metadata": {
  "kernelspec": {
   "display_name": "Python 3",
   "language": "python",
   "name": "python3"
  },
  "language_info": {
   "codemirror_mode": {
    "name": "ipython",
    "version": 3
   },
   "file_extension": ".py",
   "mimetype": "text/x-python",
   "name": "python",
   "nbconvert_exporter": "python",
   "pygments_lexer": "ipython3",
   "version": "3.6.5"
  }
 },
 "nbformat": 4,
 "nbformat_minor": 2
}
